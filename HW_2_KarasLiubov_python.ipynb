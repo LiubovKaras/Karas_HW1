{
  "nbformat": 4,
  "nbformat_minor": 0,
  "metadata": {
    "kernelspec": {
      "display_name": "Python 3 (ipykernel)",
      "language": "python",
      "name": "python3"
    },
    "language_info": {
      "codemirror_mode": {
        "name": "ipython",
        "version": 3
      },
      "file_extension": ".py",
      "mimetype": "text/x-python",
      "name": "python",
      "nbconvert_exporter": "python",
      "pygments_lexer": "ipython3",
      "version": "3.8.6"
    },
    "colab": {
      "name": "домащка // питон ",
      "provenance": [],
      "collapsed_sections": []
    }
  },
  "cells": [
    {
      "cell_type": "markdown",
      "metadata": {
        "id": "A3posBit_v77"
      },
      "source": [
        "# Домашнее задание №2 ( балла)\n",
        "\n",
        "## дедлайн 7 октября 18:10\n",
        "### 10 или 9 можно получить, если сдать домашнее задание полностью до 3 октября 23:59, а также верно выполнить задания со звездочками\n",
        "\n",
        "\n",
        "Цель:\n",
        "\n",
        "Отработать навыки работы с основными типами данных в Python.\n",
        "Отработать навыки работы с основными структурами данных в Python."
      ]
    },
    {
      "cell_type": "markdown",
      "metadata": {
        "id": "V3_p-c6m_v78"
      },
      "source": [
        "**NB!** Задания необходимо выполнять таким образом, что переменную/-ые можно было заменить на схожее слово/число/текст/список/и т.д., при этом задание все равно выполнялось бы верно."
      ]
    },
    {
      "cell_type": "markdown",
      "metadata": {
        "id": "5IHy3DUz_v8G"
      },
      "source": [
        "### Часть 1. Списки (16 баллов)"
      ]
    },
    {
      "cell_type": "markdown",
      "metadata": {
        "id": "LF37caBG_v8G"
      },
      "source": [
        "1. (2 балла) Пользователь вводит несколько чисел через запятую. Сделайте из этих чисел список, подсчитайте сумму элементов, среднее, максимальное и минимальное значение. Все результаты подсчетов выведите на экран"
      ]
    },
    {
      "cell_type": "code",
      "metadata": {
        "id": "-LK-7l2V_v8G",
        "colab": {
          "base_uri": "https://localhost:8080/"
        },
        "outputId": "2f03e324-4f5a-40f9-929f-095e4ddec431"
      },
      "source": [
        "# your code here\n",
        "numbers = input(\"введите числа через запятую: \")\n",
        "numbers_ = [float(i) for i in numbers.split(\", \")]\n",
        "numbers2 = []\n",
        "for i in numbers.split(\", \"):\n",
        "    numbers2.append(float(i))\n",
        "\n",
        "numbers2"
      ],
      "execution_count": null,
      "outputs": [
        {
          "name": "stdout",
          "output_type": "stream",
          "text": [
            "введите числа через запятую: 3, 5, 7\n"
          ]
        },
        {
          "output_type": "execute_result",
          "data": {
            "text/plain": [
              "[3.0, 5.0, 7.0]"
            ]
          },
          "metadata": {},
          "execution_count": 15
        }
      ]
    },
    {
      "cell_type": "markdown",
      "metadata": {
        "id": "KLUTNmQk_v8G"
      },
      "source": [
        "2. (2 балла) Даны два списка. \"Слить\" их через один (чередуя элементы то одного, то другого списка).\n",
        "\n",
        "`f = [1,2,3]`\n",
        "\n",
        "`s = ['1','2','3']`\n",
        "\n",
        "Ожидаемый результат:\n",
        "\n",
        "`[1, '1', 2, '2', 3, '3']`\n"
      ]
    },
    {
      "cell_type": "markdown",
      "metadata": {
        "id": "1be1P1k5_v8H"
      },
      "source": [
        "* _Список может быть любого размера (но они могут быть одинаковые), а ваш код все равно должен работать._\n",
        "* _можно заработать + 2 балла к заданию, если сделать его в одну строку_"
      ]
    },
    {
      "cell_type": "code",
      "metadata": {
        "id": "y1VqZ_7P_v8H",
        "colab": {
          "base_uri": "https://localhost:8080/"
        },
        "outputId": "8823aad6-ebed-446d-b032-c1d12d512dc1"
      },
      "source": [
        "f = [1,2,3,4,5,6]\n",
        "g = ['1','2','3','4','5','6']\n",
        "\n",
        "# your code here\n",
        "res = []\n",
        "if len(f) > len(g):\n",
        "  for i in list(zip(f,s)):\n",
        "    res.append(i[0])\n",
        "    res.append(i[1])\n",
        "  for i in f[len(g):]:\n",
        "    res.append(i)\n",
        "else:\n",
        "  for i in list(zip(f,s)):\n",
        "    res.append(i[0])\n",
        "    res.append(i[1])\n",
        "  for i in g[len(f):]:\n",
        "    res.append(i)\n",
        "\n",
        "res"
      ],
      "execution_count": 2,
      "outputs": [
        {
          "output_type": "execute_result",
          "data": {
            "text/plain": [
              "[1, '1', 2, '2', 3, '3', 4, '4']"
            ]
          },
          "metadata": {},
          "execution_count": 2
        }
      ]
    },
    {
      "cell_type": "markdown",
      "metadata": {
        "id": "wAsDtE_0_v8H"
      },
      "source": [
        "3. (4 балла) Создайте следующий лист: \n",
        "\n",
        "`months = [\n",
        "'Декабрь', 'Январь', 'Февраль',\n",
        "'Март', 'Апрель', 'Май',\n",
        "'Июнь', 'Июль', 'Август',\n",
        "'Сентябрь', 'Октябрь', 'Ноябрь'\n",
        "]`. \n",
        "\n",
        "Ваша задача получить из него:\n",
        "    - все зимние месяцы\n",
        "    - все летние месяцы\n",
        "    - каждый второй месяц года начиная с Января\n",
        "    - первые месяцы каждого сезона (4),\n",
        "\n",
        "используя `slice`."
      ]
    },
    {
      "cell_type": "code",
      "metadata": {
        "id": "ol-aAzBb_v8H",
        "colab": {
          "base_uri": "https://localhost:8080/"
        },
        "outputId": "f3b484fa-3910-4220-e06a-8a9abd9ff37d"
      },
      "source": [
        "# your code here\n",
        "months = ['Декабрь', 'Январь', 'Февраль', 'Март', 'Апрель', 'Май', 'Июнь', 'Июль', 'Август', 'Сентябрь', 'Октябрь', 'Ноябрь' ]\n",
        "print('зимние:', months[:3])\n",
        "print('летние:', months[6:9])\n",
        "print('каждый второй:', months[1::2])\n",
        "print('первые месяцы:', months[0::3])\n"
      ],
      "execution_count": 3,
      "outputs": [
        {
          "output_type": "stream",
          "name": "stdout",
          "text": [
            "зимние: ['Декабрь', 'Январь', 'Февраль']\n",
            "летние: ['Июнь', 'Июль', 'Август']\n",
            "каждый второй: ['Январь', 'Март', 'Май', 'Июль', 'Сентябрь', 'Ноябрь']\n",
            "первые месяцы: ['Декабрь', 'Март', 'Июнь', 'Сентябрь']\n"
          ]
        }
      ]
    },
    {
      "cell_type": "markdown",
      "metadata": {
        "id": "dyFDN1th_v8H"
      },
      "source": [
        "4. (3 балла) Создайте list \n",
        "\n",
        "`weekdays = ['Понедельник', 2, 'Cреда', 'Четверг', 5]`\n",
        "\n",
        "- Исправьте числа 2 и 5 на Вторник и Пятницу соответственно\n",
        "- Добавьте недостающие дни в конец списка\n",
        "- Посчитайте длину итогового листа"
      ]
    },
    {
      "cell_type": "code",
      "metadata": {
        "id": "mpUCmwn4_v8H",
        "colab": {
          "base_uri": "https://localhost:8080/"
        },
        "outputId": "bd4ef4e8-eece-4386-dec3-ff72df4ca368"
      },
      "source": [
        "# your code here\n",
        "weekdays = ['Понедельник', 2, 'Cреда', 'Четверг', 5]\n",
        "weekdays[1], weekdays[4] = 'Вторник',  'Пятницу'\n",
        "weekdays.append('Суббота')\n",
        "weekdays.append('Воскресенье')\n",
        "\n",
        "print(len(weekdays))\n",
        "print(weekdays)"
      ],
      "execution_count": 5,
      "outputs": [
        {
          "output_type": "stream",
          "name": "stdout",
          "text": [
            "7\n",
            "['Понедельник', 'Вторник', 'Cреда', 'Четверг', 'Пятницу', 'Суббота', 'Воскресенье']\n"
          ]
        }
      ]
    },
    {
      "cell_type": "markdown",
      "metadata": {
        "id": "sX7Pyq8d_v8H"
      },
      "source": [
        "5. (3 балла) Создайте строку (str) `'йтцыу фочтмлзирчйнбою асапырйафвялгяшещшоьрскяу!й'`\n",
        "\n",
        "    - Превратите ее в лист символов\n",
        "    - Расшифруйте закодированное в ней сообщение, выбрав из всех символов только символы с **нечетным** индексом\n",
        "    - Превратите полученный лист обратно в строку и напечатайте результат\n",
        "\n",
        "**Hint** вам понадобится функция `.join()`"
      ]
    },
    {
      "cell_type": "code",
      "metadata": {
        "id": "fJozshnzC69S",
        "colab": {
          "base_uri": "https://localhost:8080/",
          "height": 37
        },
        "outputId": "3a193b81-e9b9-447a-b436-73828f510589"
      },
      "source": [
        "s = 'йтцыу фочтмлзирчйнбою асапырйафвялгяшещшоьрскяу!й'\n",
        "\n",
        "ls = list(s)\n",
        "res =[]\n",
        "for i in range(len(ls)):\n",
        "  if i%2 == 1:\n",
        "    res.append(ls[i])\n",
        "\n",
        "''.join(res)"
      ],
      "execution_count": 6,
      "outputs": [
        {
          "output_type": "execute_result",
          "data": {
            "application/vnd.google.colaboratory.intrinsic+json": {
              "type": "string"
            },
            "text/plain": [
              "'ты отлично справляешься!'"
            ]
          },
          "metadata": {},
          "execution_count": 6
        }
      ]
    },
    {
      "cell_type": "markdown",
      "metadata": {
        "id": "hI1vaX97DLgo"
      },
      "source": [
        "6. (2 балла) Дан список (придумайте любой и положите в переменную `my_list`, `input()` использовать не нужно). Проверить, содержит ли данный список повторяющиеся элементы, удалить повторяющиеся элементы (без использования `dict` и `set`)"
      ]
    },
    {
      "cell_type": "code",
      "metadata": {
        "id": "c4_1mkhp_v8H",
        "colab": {
          "base_uri": "https://localhost:8080/"
        },
        "outputId": "b8cec7b9-02d3-40e2-9c68-2ae2e115ac8e"
      },
      "source": [
        "# your code here\n",
        "my_list = [1, 2, 3, 4, 3, 2] \n",
        "temp = [] \n",
        "for x in my_list: \n",
        "  if x not in temp:\n",
        "    temp.append(x)\n",
        "\n",
        "my_list = temp\n",
        "my_list"
      ],
      "execution_count": 7,
      "outputs": [
        {
          "output_type": "execute_result",
          "data": {
            "text/plain": [
              "[1, 2, 3, 4]"
            ]
          },
          "metadata": {},
          "execution_count": 7
        }
      ]
    },
    {
      "cell_type": "markdown",
      "metadata": {
        "id": "nSJWKkvq_v8I"
      },
      "source": [
        "### Часть 2. Кортежи (3 балла)"
      ]
    },
    {
      "cell_type": "markdown",
      "metadata": {
        "id": "hFX4GTq1_v8I"
      },
      "source": [
        "29. (1 балл) Создать кортеж из одного элемента."
      ]
    },
    {
      "cell_type": "code",
      "metadata": {
        "id": "_qcdWtzz_v8I"
      },
      "source": [
        "# your code here\n",
        "a = (1)"
      ],
      "execution_count": 8,
      "outputs": []
    },
    {
      "cell_type": "markdown",
      "metadata": {
        "id": "WFrsJtZr_v8I"
      },
      "source": [
        "30. (1 балл) Создайте кортеж из списка, напечатайте его.\n",
        "\n",
        "`months = [\n",
        "'Январь', 'Февраль',\n",
        "'Март', 'Апрель', 'Май',\n",
        "'Июнь', 'Июль', 'Август',\n",
        "'Сентябрь', 'Октябрь', 'Ноябрь'\n",
        "]`"
      ]
    },
    {
      "cell_type": "code",
      "metadata": {
        "id": "1zL4nMN4_v8I",
        "colab": {
          "base_uri": "https://localhost:8080/"
        },
        "outputId": "52c5752d-070c-4233-cf2a-1fd83a20dcc1"
      },
      "source": [
        "# your code here\n",
        "months = [ 'Январь', 'Февраль', 'Март', 'Апрель', 'Май', 'Июнь', 'Июль', 'Август', 'Сентябрь', 'Октябрь', 'Ноябрь' ]\n",
        "\n",
        "print(tuple(months))"
      ],
      "execution_count": 9,
      "outputs": [
        {
          "output_type": "stream",
          "name": "stdout",
          "text": [
            "('Январь', 'Февраль', 'Март', 'Апрель', 'Май', 'Июнь', 'Июль', 'Август', 'Сентябрь', 'Октябрь', 'Ноябрь')\n"
          ]
        }
      ]
    },
    {
      "cell_type": "markdown",
      "metadata": {
        "id": "iGn7e0Ow_v8I"
      },
      "source": [
        "31. (1 балл) Добавьте недостающий месяц (на выходе ожидается кортеж)"
      ]
    },
    {
      "cell_type": "code",
      "metadata": {
        "id": "ZdD0BuYU_v8I",
        "colab": {
          "base_uri": "https://localhost:8080/"
        },
        "outputId": "afb574bb-0949-4bf0-8592-49c8ff30748a"
      },
      "source": [
        "# your code here\n",
        "m = tuple(months)\n",
        "d = ('Декабрь',)\n",
        "print(d + m)"
      ],
      "execution_count": 10,
      "outputs": [
        {
          "output_type": "stream",
          "name": "stdout",
          "text": [
            "('Декабрь', 'Январь', 'Февраль', 'Март', 'Апрель', 'Май', 'Июнь', 'Июль', 'Август', 'Сентябрь', 'Октябрь', 'Ноябрь')\n"
          ]
        }
      ]
    },
    {
      "cell_type": "markdown",
      "metadata": {
        "id": "netCKvWK_v8I"
      },
      "source": [
        "### Часть 3. Сеты (4 балла)"
      ]
    },
    {
      "cell_type": "markdown",
      "metadata": {
        "id": "vmpZWO8Z_v8I"
      },
      "source": [
        "32. (1 балл) Посчитать, сколько различных букв в слове 'превысокомногорассмотрительствующий'"
      ]
    },
    {
      "cell_type": "code",
      "metadata": {
        "id": "IUBHgO78_v8J",
        "colab": {
          "base_uri": "https://localhost:8080/"
        },
        "outputId": "59947492-2d13-43a6-fc96-49f11fa135de"
      },
      "source": [
        "# your code here\n",
        "my_word = \"превысокомногорассмотрительствующий\"\n",
        "\n",
        "len(set(list(my_word)))"
      ],
      "execution_count": 11,
      "outputs": [
        {
          "output_type": "execute_result",
          "data": {
            "text/plain": [
              "20"
            ]
          },
          "metadata": {},
          "execution_count": 11
        }
      ]
    },
    {
      "cell_type": "markdown",
      "metadata": {
        "id": "EtPaMLQO_v8J"
      },
      "source": [
        "33. (1 балл) Какие различные буквы имеют слова \"превысокомногорассмотрительствующий\" и \"водогрязеторфопарафинолечение\"?"
      ]
    },
    {
      "cell_type": "code",
      "metadata": {
        "id": "dwIdysLu_v8J",
        "colab": {
          "base_uri": "https://localhost:8080/"
        },
        "outputId": "6ca57a65-5cb3-46a7-8a7a-3098ecd2ad8b"
      },
      "source": [
        "# your code here\n",
        "word1 = \"превысокомногорассмотрительствующий\"\n",
        "word2 = \"водогрязеторфопарафинолечение\"\n",
        "\n",
        "set1 = list(set(list(word1)))\n",
        "set2 = list(set(list(word2)))\n",
        "\n",
        "res = set(set1 + set2)\n",
        "print(*res)"
      ],
      "execution_count": 12,
      "outputs": [
        {
          "output_type": "stream",
          "name": "stdout",
          "text": [
            "з щ с я ы ф в р ч д л у о н к е й п м ь а г ю и т\n"
          ]
        }
      ]
    },
    {
      "cell_type": "markdown",
      "metadata": {
        "id": "UQxsVL3w_v8J"
      },
      "source": [
        "34. (1 балл) Какие общие буквы имеют слова \"превысокомногорассмотрительствующий\" и \"водогрязеторфопарафинолечение\"?"
      ]
    },
    {
      "cell_type": "code",
      "metadata": {
        "id": "unSFfV_a_v8J",
        "colab": {
          "base_uri": "https://localhost:8080/"
        },
        "outputId": "0ece35f0-e518-44fb-b8f4-8f677a89b4f4"
      },
      "source": [
        "# your code here\n",
        "print(set(list(word1)) & set (list(word2)))"
      ],
      "execution_count": 13,
      "outputs": [
        {
          "output_type": "stream",
          "name": "stdout",
          "text": [
            "{'в', 'а', 'р', 'г', 'е', 'л', 'п', 'о', 'и', 'н', 'т'}\n"
          ]
        }
      ]
    },
    {
      "cell_type": "markdown",
      "metadata": {
        "id": "GauGi3oF_v8J"
      },
      "source": [
        "35. (1 балл) Есть ли буквы в слове \"превысокомногорассмотрительствующий\", которых нет в слове \"водогрязеторфопарафинолечение\"? А наоборот?"
      ]
    },
    {
      "cell_type": "code",
      "metadata": {
        "id": "TfTtSHFY_v8J",
        "colab": {
          "base_uri": "https://localhost:8080/"
        },
        "outputId": "f56db836-1bae-4ebb-9e6f-ee05054dc63a"
      },
      "source": [
        "# your code here\n",
        "set1 = set(list(word1))\n",
        "set2 = set(list(word2))\n",
        "print(f\"Буквы, которые есть в первом слове, но которых нет во втором {set1 - set2}\") # то же что и set1.difference(set2)\n",
        "print(f\"Буквы, которые есть во втором слове, но которых нет в первом {set2 - set1}\") # то же что и set2.difference(set1)"
      ],
      "execution_count": 14,
      "outputs": [
        {
          "output_type": "stream",
          "name": "stdout",
          "text": [
            "Буквы, которые есть в первом слове, но которых нет во втором {'щ', 'с', 'й', 'ы', 'ю', 'м', 'у', 'ь', 'к'}\n",
            "Буквы, которые есть во втором слове, но которых нет в первом {'з', 'ч', 'я', 'д', 'ф'}\n"
          ]
        }
      ]
    },
    {
      "cell_type": "markdown",
      "metadata": {
        "id": "E2sczfkn_v8J"
      },
      "source": [
        "### Часть 6. Словари и полезные вещи (10 баллов)"
      ]
    },
    {
      "cell_type": "markdown",
      "metadata": {
        "id": "VxZ4E8JhEHxD"
      },
      "source": [
        "Дан текст. Текст приведен к начальной форме уже за вас (мы это научимся делать на следующем занятии).\n",
        "```\n",
        "1. DJ Khaled замутить трек, в который читать только Drake. \n",
        "2. Drake организовывать на этот песня очень крутой клип, в который вместо он сниматься только джастин бибер.\n",
        "\n",
        "видимо, награда за весь это быть получать леонардо дикаприо 😅\n",
        "\n",
        "в клип джастин, кстати, выглядеть очень бодрый и наконец выздоравливать от болезнь и депрессия.\n",
        "отдельный прикол в то, что он там «читать» строчка про свой бывший девушка селен гомес, про себя сам и про то, насколько дрейк - крутой они все и взрывать индустрия 😂🤟\n",
        "```"
      ]
    },
    {
      "cell_type": "markdown",
      "metadata": {
        "id": "hGBIV3hS_v8K"
      },
      "source": [
        "36. (1 балл) Запишите его в переменную. Обратите внимание, что текст многострочный -- переносы строки нужно сохранить!"
      ]
    },
    {
      "cell_type": "code",
      "metadata": {
        "id": "BLB2YgyY_v8K",
        "colab": {
          "base_uri": "https://localhost:8080/"
        },
        "outputId": "5fa9820d-82db-4dc4-afd0-43dc42ac8874"
      },
      "source": [
        "# your code here\n",
        "my_text = \"\"\"\n",
        "1. DJ Khaled замутить трек, в который читать только Drake. \n",
        "2. Drake организовывать на этот песня очень крутой клип, в который вместо он сниматься только джастин бибер.\n",
        "\n",
        "видимо, награда за весь это быть получать леонардо дикаприо 😅\n",
        "\n",
        "в клип джастин, кстати, выглядеть очень бодрый и наконец выздоравливать от болезнь и депрессия.\n",
        "отдельный прикол в то, что он там «читать» строчка про свой бывший девушка селен гомес, про себя сам и про то, насколько дрейк - крутой они все и взрывать индустрия 😂🤟\n",
        "\"\"\"\n",
        "print(my_text)"
      ],
      "execution_count": 15,
      "outputs": [
        {
          "output_type": "stream",
          "name": "stdout",
          "text": [
            "\n",
            "1. DJ Khaled замутить трек, в который читать только Drake. \n",
            "2. Drake организовывать на этот песня очень крутой клип, в который вместо он сниматься только джастин бибер.\n",
            "\n",
            "видимо, награда за весь это быть получать леонардо дикаприо 😅\n",
            "\n",
            "в клип джастин, кстати, выглядеть очень бодрый и наконец выздоравливать от болезнь и депрессия.\n",
            "отдельный прикол в то, что он там «читать» строчка про свой бывший девушка селен гомес, про себя сам и про то, насколько дрейк - крутой они все и взрывать индустрия 😂🤟\n",
            "\n"
          ]
        }
      ]
    },
    {
      "cell_type": "markdown",
      "metadata": {
        "id": "Z2529Ids_v8K"
      },
      "source": [
        "37. (1 балл) Разделите текст на предложения (только при помощи `\"\\n\"`)"
      ]
    },
    {
      "cell_type": "code",
      "metadata": {
        "id": "DWR1Ckig_v8K",
        "colab": {
          "base_uri": "https://localhost:8080/"
        },
        "outputId": "3f3a4ff7-66af-41fa-8875-eb546bc1b143"
      },
      "source": [
        "# your code here\n",
        "print(my_text.strip().split(\"\\n\"))"
      ],
      "execution_count": 16,
      "outputs": [
        {
          "output_type": "stream",
          "name": "stdout",
          "text": [
            "['1. DJ Khaled замутить трек, в который читать только Drake. ', '2. Drake организовывать на этот песня очень крутой клип, в который вместо он сниматься только джастин бибер.', '', 'видимо, награда за весь это быть получать леонардо дикаприо 😅', '', 'в клип джастин, кстати, выглядеть очень бодрый и наконец выздоравливать от болезнь и депрессия.', 'отдельный прикол в то, что он там «читать» строчка про свой бывший девушка селен гомес, про себя сам и про то, насколько дрейк - крутой они все и взрывать индустрия 😂🤟']\n"
          ]
        }
      ]
    },
    {
      "cell_type": "markdown",
      "metadata": {
        "id": "pa1_7zAS_v8K"
      },
      "source": [
        "38. (2 балла) Разделите предложения на слова, удалите пунктуацию до и после слов, используя `.strip()`. И кавычки тоже удалите."
      ]
    },
    {
      "cell_type": "code",
      "metadata": {
        "id": "Fj0ZPwO1_v8K",
        "colab": {
          "base_uri": "https://localhost:8080/"
        },
        "outputId": "5650da9b-f544-4588-aafe-8be8e79f9010"
      },
      "source": [
        "# your code here\n",
        "words_arr = []\n",
        "\n",
        "for sentence in my_text.strip().split(\"\\n\"):\n",
        "  for word in sentence.split():\n",
        "    words_arr.append(word.strip(\".,«» \"))\n",
        "    print(words_arr[-1], end=\" \")\n",
        "  print()\n",
        "\n",
        "print(words_arr)"
      ],
      "execution_count": 17,
      "outputs": [
        {
          "output_type": "stream",
          "name": "stdout",
          "text": [
            "1 DJ Khaled замутить трек в который читать только Drake \n",
            "2 Drake организовывать на этот песня очень крутой клип в который вместо он сниматься только джастин бибер \n",
            "\n",
            "видимо награда за весь это быть получать леонардо дикаприо 😅 \n",
            "\n",
            "в клип джастин кстати выглядеть очень бодрый и наконец выздоравливать от болезнь и депрессия \n",
            "отдельный прикол в то что он там читать строчка про свой бывший девушка селен гомес про себя сам и про то насколько дрейк - крутой они все и взрывать индустрия 😂🤟 \n",
            "['1', 'DJ', 'Khaled', 'замутить', 'трек', 'в', 'который', 'читать', 'только', 'Drake', '2', 'Drake', 'организовывать', 'на', 'этот', 'песня', 'очень', 'крутой', 'клип', 'в', 'который', 'вместо', 'он', 'сниматься', 'только', 'джастин', 'бибер', 'видимо', 'награда', 'за', 'весь', 'это', 'быть', 'получать', 'леонардо', 'дикаприо', '😅', 'в', 'клип', 'джастин', 'кстати', 'выглядеть', 'очень', 'бодрый', 'и', 'наконец', 'выздоравливать', 'от', 'болезнь', 'и', 'депрессия', 'отдельный', 'прикол', 'в', 'то', 'что', 'он', 'там', 'читать', 'строчка', 'про', 'свой', 'бывший', 'девушка', 'селен', 'гомес', 'про', 'себя', 'сам', 'и', 'про', 'то', 'насколько', 'дрейк', '-', 'крутой', 'они', 'все', 'и', 'взрывать', 'индустрия', '😂🤟']\n"
          ]
        }
      ]
    },
    {
      "cell_type": "markdown",
      "metadata": {
        "id": "H6JJW1GH_v8K"
      },
      "source": [
        "39. (2 балла) Создайте словарь, в котором ключ -- слово из текста, а значение -- количество раз, сколько оно встречается во всем тексте.\n",
        "\n",
        "например:\n",
        "\n",
        "`dct = {\"go\": 1, \"went\": 2, \"gone\": 3}`\n",
        "\n",
        "Напечатайте словарь"
      ]
    },
    {
      "cell_type": "code",
      "metadata": {
        "id": "cy5_T8yM_v8L",
        "colab": {
          "base_uri": "https://localhost:8080/"
        },
        "outputId": "d3ed04ee-73f8-4f04-81a8-5a2a16ec4f86"
      },
      "source": [
        "# your code here\n",
        "from collections import Counter\n",
        "dct = dict(Counter(words_arr))\n",
        "print(dct, sep=\" \")"
      ],
      "execution_count": 18,
      "outputs": [
        {
          "output_type": "stream",
          "name": "stdout",
          "text": [
            "{'1': 1, 'DJ': 1, 'Khaled': 1, 'замутить': 1, 'трек': 1, 'в': 4, 'который': 2, 'читать': 2, 'только': 2, 'Drake': 2, '2': 1, 'организовывать': 1, 'на': 1, 'этот': 1, 'песня': 1, 'очень': 2, 'крутой': 2, 'клип': 2, 'вместо': 1, 'он': 2, 'сниматься': 1, 'джастин': 2, 'бибер': 1, 'видимо': 1, 'награда': 1, 'за': 1, 'весь': 1, 'это': 1, 'быть': 1, 'получать': 1, 'леонардо': 1, 'дикаприо': 1, '😅': 1, 'кстати': 1, 'выглядеть': 1, 'бодрый': 1, 'и': 4, 'наконец': 1, 'выздоравливать': 1, 'от': 1, 'болезнь': 1, 'депрессия': 1, 'отдельный': 1, 'прикол': 1, 'то': 2, 'что': 1, 'там': 1, 'строчка': 1, 'про': 3, 'свой': 1, 'бывший': 1, 'девушка': 1, 'селен': 1, 'гомес': 1, 'себя': 1, 'сам': 1, 'насколько': 1, 'дрейк': 1, '-': 1, 'они': 1, 'все': 1, 'взрывать': 1, 'индустрия': 1, '😂🤟': 1}\n"
          ]
        }
      ]
    },
    {
      "cell_type": "markdown",
      "metadata": {
        "id": "lCKeMfMY_v8L"
      },
      "source": [
        "40. (2 балла) Напечатайте слова, встречающиеся более 1 раза в формате `\"слово кол-во раз\"` через пробел.\n",
        "\n",
        "    * Если сможете напечатать в порядке убывания (от большего к меньшему) + 2 балла"
      ]
    },
    {
      "cell_type": "code",
      "metadata": {
        "id": "bd5BAdeu_v8L",
        "colab": {
          "base_uri": "https://localhost:8080/"
        },
        "outputId": "c2599fd1-44b9-494c-bef8-423dbc1ff226"
      },
      "source": [
        "# your code here\n",
        "print(*[f\"{k} {v}\" for k, v in sorted(dct.items(), key=lambda item: item[1], reverse=True) if v > 1], sep=\"\\n\")"
      ],
      "execution_count": 20,
      "outputs": [
        {
          "output_type": "stream",
          "name": "stdout",
          "text": [
            "в 4\n",
            "и 4\n",
            "про 3\n",
            "который 2\n",
            "читать 2\n",
            "только 2\n",
            "Drake 2\n",
            "очень 2\n",
            "крутой 2\n",
            "клип 2\n",
            "он 2\n",
            "джастин 2\n",
            "то 2\n"
          ]
        }
      ]
    },
    {
      "cell_type": "markdown",
      "metadata": {
        "id": "6mEkbtQk_v8M"
      },
      "source": [
        "41. (2 балла) Пользователь вводит с клавиатуры какое-нибудь слово.\n",
        "Проверяем, есть ли слово в массиве: если нет, добавляем его туда и печатаем \"Слово X добавлено\", а если есть, то печатаем ответ \"Слово X в тексте N раз\"."
      ]
    },
    {
      "cell_type": "code",
      "metadata": {
        "id": "JvQMP8wR_v8M"
      },
      "source": [
        "# your code here\n",
        "words_dict = {}\n",
        "\n",
        "def check_word(word, add_if_exist = True): \n",
        "  if word in words_dict:\n",
        "    print(f\"Слово {word} в тексте {words_dict[word]} раз\")\n",
        "    if add_if_exist:\n",
        "      words_dict[word] += 1\n",
        "  else:\n",
        "    print(f\"Слово {word} добавлено\")\n",
        "    words_dict[word] = 1\n",
        "    "
      ],
      "execution_count": 25,
      "outputs": []
    },
    {
      "cell_type": "markdown",
      "metadata": {
        "id": "YTZ_hhhBFasx"
      },
      "source": [
        "## Задания со звездочкой (9 или 10 можно получить, решив эти задания)"
      ]
    },
    {
      "cell_type": "markdown",
      "metadata": {
        "id": "159FPHDYFpk1"
      },
      "source": [
        "42. По заданному n вывести левосторонний треугольник из следующих цифр:\n"
      ]
    },
    {
      "cell_type": "code",
      "metadata": {
        "colab": {
          "base_uri": "https://localhost:8080/"
        },
        "id": "KqJoZEUIFaEd",
        "outputId": "b667800e-f81c-47fb-a793-a17cb35dd3f8"
      },
      "source": [
        "# your code here\n",
        "def n_piramid(n):\n",
        "  for i in range(n+1):\n",
        "    print(*[x for x in range(i+1)]) # вывожу списки элементов от 0 до i+1 в каждой новой строке\n",
        "\n",
        "n_piramid(10)"
      ],
      "execution_count": 26,
      "outputs": [
        {
          "output_type": "stream",
          "name": "stdout",
          "text": [
            "0\n",
            "0 1\n",
            "0 1 2\n",
            "0 1 2 3\n",
            "0 1 2 3 4\n",
            "0 1 2 3 4 5\n",
            "0 1 2 3 4 5 6\n",
            "0 1 2 3 4 5 6 7\n",
            "0 1 2 3 4 5 6 7 8\n",
            "0 1 2 3 4 5 6 7 8 9\n",
            "0 1 2 3 4 5 6 7 8 9 10\n"
          ]
        }
      ]
    },
    {
      "cell_type": "code",
      "metadata": {
        "colab": {
          "base_uri": "https://localhost:8080/"
        },
        "id": "CqKQKoHTiCj8",
        "outputId": "d0af96c5-d815-4843-f6cb-f67adfa8a5f5"
      },
      "source": [
        "n = 10\n",
        "\n",
        "previous = []\n",
        "\n",
        "for i in range(n):\n",
        "    previous_list = \" \".join(previous)\n",
        "    print(f'{previous_list} {str(i)}'.strip())\n",
        "    previous.append(str(i))"
      ],
      "execution_count": null,
      "outputs": [
        {
          "output_type": "stream",
          "name": "stdout",
          "text": [
            "0\n",
            "0 1\n",
            "0 1 2\n",
            "0 1 2 3\n",
            "0 1 2 3 4\n",
            "0 1 2 3 4 5\n",
            "0 1 2 3 4 5 6\n",
            "0 1 2 3 4 5 6 7\n",
            "0 1 2 3 4 5 6 7 8\n",
            "0 1 2 3 4 5 6 7 8 9\n"
          ]
        }
      ]
    },
    {
      "cell_type": "code",
      "metadata": {
        "colab": {
          "base_uri": "https://localhost:8080/"
        },
        "id": "HvPHWZzUjuas",
        "outputId": "80472a8f-4531-44f6-eb06-49ccc15cc5f2"
      },
      "source": [
        "x = [0, 5, 1]\n",
        "print(*x)\n",
        "print(x)"
      ],
      "execution_count": null,
      "outputs": [
        {
          "output_type": "stream",
          "name": "stdout",
          "text": [
            "0 5 1\n",
            "[0, 5, 1]\n"
          ]
        }
      ]
    },
    {
      "cell_type": "markdown",
      "metadata": {
        "id": "-9rUNF4-Fofe"
      },
      "source": [
        "43. По заданному n вывести перевернутый правосторонний треугольник из следующих цифр"
      ]
    },
    {
      "cell_type": "code",
      "metadata": {
        "colab": {
          "base_uri": "https://localhost:8080/"
        },
        "id": "Sa7ZDOa-Fm7O",
        "outputId": "27785899-9a5d-4a84-bff3-d93e602a0a67"
      },
      "source": [
        "#your code here\n",
        "def n_piramid_reversed(n):\n",
        "  str_arr = [\" \".join(str(e) for e in [x for x in range(i+1)]) for i in range(n,-1,-1)]\n",
        "  max_len = len(str_arr[0])\n",
        "  for line in str_arr:\n",
        "    print(\" \"*(max_len-len(line)),line, sep=\"\")\n",
        "\n",
        "n_piramid_reversed(10)"
      ],
      "execution_count": 29,
      "outputs": [
        {
          "output_type": "stream",
          "name": "stdout",
          "text": [
            "0 1 2 3 4 5 6 7 8 9 10\n",
            "   0 1 2 3 4 5 6 7 8 9\n",
            "     0 1 2 3 4 5 6 7 8\n",
            "       0 1 2 3 4 5 6 7\n",
            "         0 1 2 3 4 5 6\n",
            "           0 1 2 3 4 5\n",
            "             0 1 2 3 4\n",
            "               0 1 2 3\n",
            "                 0 1 2\n",
            "                   0 1\n",
            "                     0\n"
          ]
        }
      ]
    },
    {
      "cell_type": "markdown",
      "metadata": {
        "id": "y1BSSdWe_v8N"
      },
      "source": [
        "#### Напишите ниже вашу обратную связь по домашнему заданию в комментарии. \n",
        "\n",
        "#### Какие задания показались вам самыми сложными / простыми? Что понравилось, а что нет?"
      ]
    },
    {
      "cell_type": "code",
      "metadata": {
        "id": "xciAjxQG_v8N"
      },
      "source": [
        ""
      ],
      "execution_count": null,
      "outputs": []
    }
  ]
}